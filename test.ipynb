{
 "cells": [
  {
   "cell_type": "code",
   "execution_count": 1,
   "metadata": {
    "collapsed": true
   },
   "outputs": [],
   "source": [
    "import tensorflow as tf\n",
    "import pandas as pd\n",
    "import numpy as np\n",
    "from tqdm import tqdm\n",
    "import os\n",
    "import re\n",
    "import nltk\n",
    "\n",
    "from tensorflow.keras.layers import *\n",
    "from sklearn.metrics import *\n",
    "from transformers import BertTokenizer, TFBertModel\n",
    "from gensim.utils import simple_preprocess\n",
    "from math import ceil\n",
    "import spektral\n",
    "\n",
    "from politifact_bert import BigClass"
   ]
  },
  {
   "cell_type": "code",
   "execution_count": 2,
   "outputs": [
    {
     "name": "stdout",
     "output_type": "stream",
     "text": [
      "WARNING:tensorflow:From D:\\StudioPenguin\\politifact\\politifact_bert.py:38: is_gpu_available (from tensorflow.python.framework.test_util) is deprecated and will be removed in a future version.\n",
      "Instructions for updating:\n",
      "Use `tf.config.list_physical_devices('GPU')` instead.\n"
     ]
    },
    {
     "name": "stderr",
     "output_type": "stream",
     "text": [
      "[nltk_data] Downloading package stopwords to\n",
      "[nltk_data]     C:\\Users\\ASUS\\AppData\\Roaming\\nltk_data...\n",
      "[nltk_data]   Package stopwords is already up-to-date!\n",
      "D:\\StudioPenguin\\politifact\\politifact_bert.py:50: FutureWarning: Downcasting behavior in `replace` is deprecated and will be removed in a future version. To retain the old behavior, explicitly call `result.infer_objects(copy=False)`. To opt-in to the future behavior, set `pd.set_option('future.no_silent_downcasting', True)`\n",
      "  y_train_raw = self.raw_train_dataset.iloc[:, 1].replace(self.LABELS, [0, 1]).tolist()\n",
      "D:\\StudioPenguin\\politifact\\politifact_bert.py:61: FutureWarning: Downcasting behavior in `replace` is deprecated and will be removed in a future version. To retain the old behavior, explicitly call `result.infer_objects(copy=False)`. To opt-in to the future behavior, set `pd.set_option('future.no_silent_downcasting', True)`\n",
      "  y_test_raw = self.raw_test_dataset.iloc[:, 1].replace(self.LABELS, [0, 1]).tolist()\n",
      "D:\\StudioPenguin\\politifact\\virtualenv\\lib\\site-packages\\huggingface_hub\\file_download.py:1132: FutureWarning: `resume_download` is deprecated and will be removed in version 1.0.0. Downloads always resume when possible. If you want to force a new download, use `force_download=True`.\n",
      "  warnings.warn(\n"
     ]
    },
    {
     "name": "stdout",
     "output_type": "stream",
     "text": [
      "Training Dataset -  label\n",
      "real    401\n",
      "fake    299\n",
      "Name: count, dtype: int64\n",
      "Train data shape -  (700, 2)\n",
      "Test Dataset -  label\n",
      "real    98\n",
      "fake    77\n",
      "Name: count, dtype: int64\n",
      "Test data shape -  (175, 2)\n"
     ]
    },
    {
     "ename": "AttributeError",
     "evalue": "'NoneType' object has no attribute 'items'",
     "output_type": "error",
     "traceback": [
      "\u001B[1;31m---------------------------------------------------------------------------\u001B[0m",
      "\u001B[1;31mAttributeError\u001B[0m                            Traceback (most recent call last)",
      "Cell \u001B[1;32mIn[2], line 6\u001B[0m\n\u001B[0;32m      4\u001B[0m \u001B[38;5;28mself\u001B[39m \u001B[38;5;241m=\u001B[39m BigClass(train_df, test_df, \u001B[38;5;124m\"\u001B[39m\u001B[38;5;124mPolitifact\u001B[39m\u001B[38;5;124m\"\u001B[39m, [\u001B[38;5;124m'\u001B[39m\u001B[38;5;124mfake\u001B[39m\u001B[38;5;124m'\u001B[39m, \u001B[38;5;124m'\u001B[39m\u001B[38;5;124mreal\u001B[39m\u001B[38;5;124m'\u001B[39m])\n\u001B[0;32m      5\u001B[0m \u001B[38;5;28mself\u001B[39m\u001B[38;5;241m.\u001B[39mprepare_dataset()\n\u001B[1;32m----> 6\u001B[0m \u001B[38;5;28;43mself\u001B[39;49m\u001B[38;5;241;43m.\u001B[39;49m\u001B[43mprepare_bert_tokens\u001B[49m\u001B[43m(\u001B[49m\u001B[43m)\u001B[49m\n\u001B[0;32m      7\u001B[0m \u001B[38;5;28mself\u001B[39m\u001B[38;5;241m.\u001B[39msave_bert_tokens()\n\u001B[0;32m      8\u001B[0m \u001B[38;5;28mself\u001B[39m\u001B[38;5;241m.\u001B[39msave_labels()\n",
      "File \u001B[1;32mD:\\StudioPenguin\\politifact\\politifact_bert.py:72\u001B[0m, in \u001B[0;36mBigClass.prepare_bert_tokens\u001B[1;34m(self)\u001B[0m\n\u001B[0;32m     70\u001B[0m \u001B[38;5;28;01mdef\u001B[39;00m \u001B[38;5;21mprepare_bert_tokens\u001B[39m(\u001B[38;5;28mself\u001B[39m):\n\u001B[0;32m     71\u001B[0m     \u001B[38;5;28;01mif\u001B[39;00m \u001B[38;5;129;01mnot\u001B[39;00m \u001B[38;5;28mself\u001B[39m\u001B[38;5;241m.\u001B[39mbert_model \u001B[38;5;129;01mor\u001B[39;00m \u001B[38;5;129;01mnot\u001B[39;00m \u001B[38;5;28mself\u001B[39m\u001B[38;5;241m.\u001B[39mbert_tokenizer:\n\u001B[1;32m---> 72\u001B[0m         \u001B[38;5;28mself\u001B[39m\u001B[38;5;241m.\u001B[39mbert_tokenizer, \u001B[38;5;28mself\u001B[39m\u001B[38;5;241m.\u001B[39mbert_model \u001B[38;5;241m=\u001B[39m \u001B[38;5;28;43mself\u001B[39;49m\u001B[38;5;241;43m.\u001B[39;49m\u001B[43mload_bert_model\u001B[49m\u001B[43m(\u001B[49m\u001B[43m)\u001B[49m\n\u001B[0;32m     73\u001B[0m         \u001B[38;5;28mprint\u001B[39m(\u001B[38;5;124m\"\u001B[39m\u001B[38;5;124mLoaded bert Tokenizer and Model.\u001B[39m\u001B[38;5;124m\"\u001B[39m)\n\u001B[0;32m     74\u001B[0m     \u001B[38;5;28;01melse\u001B[39;00m:\n",
      "File \u001B[1;32mD:\\StudioPenguin\\politifact\\politifact_bert.py:89\u001B[0m, in \u001B[0;36mBigClass.load_bert_model\u001B[1;34m(self)\u001B[0m\n\u001B[0;32m     87\u001B[0m \u001B[38;5;28;01mdef\u001B[39;00m \u001B[38;5;21mload_bert_model\u001B[39m(\u001B[38;5;28mself\u001B[39m):\n\u001B[0;32m     88\u001B[0m     tokenizer \u001B[38;5;241m=\u001B[39m BertTokenizer\u001B[38;5;241m.\u001B[39mfrom_pretrained(\u001B[38;5;28mself\u001B[39m\u001B[38;5;241m.\u001B[39mmodel_name)\n\u001B[1;32m---> 89\u001B[0m     model \u001B[38;5;241m=\u001B[39m \u001B[43mTFBertModel\u001B[49m\u001B[38;5;241;43m.\u001B[39;49m\u001B[43mfrom_pretrained\u001B[49m\u001B[43m(\u001B[49m\u001B[38;5;28;43mself\u001B[39;49m\u001B[38;5;241;43m.\u001B[39;49m\u001B[43mmodel_name\u001B[49m\u001B[43m,\u001B[49m\u001B[43m \u001B[49m\u001B[43moutput_hidden_states\u001B[49m\u001B[38;5;241;43m=\u001B[39;49m\u001B[38;5;28;43;01mTrue\u001B[39;49;00m\u001B[43m)\u001B[49m\n\u001B[0;32m     90\u001B[0m     model\u001B[38;5;241m.\u001B[39mtrainable \u001B[38;5;241m=\u001B[39m \u001B[38;5;28;01mFalse\u001B[39;00m\n\u001B[0;32m     92\u001B[0m     \u001B[38;5;28;01mreturn\u001B[39;00m tokenizer, model\n",
      "File \u001B[1;32mD:\\StudioPenguin\\politifact\\virtualenv\\lib\\site-packages\\transformers\\modeling_tf_utils.py:2902\u001B[0m, in \u001B[0;36mTFPreTrainedModel.from_pretrained\u001B[1;34m(cls, pretrained_model_name_or_path, config, cache_dir, ignore_mismatched_sizes, force_download, local_files_only, token, revision, use_safetensors, *model_args, **kwargs)\u001B[0m\n\u001B[0;32m   2899\u001B[0m     model_kwargs[\u001B[38;5;124m\"\u001B[39m\u001B[38;5;124mload_weight_prefix\u001B[39m\u001B[38;5;124m\"\u001B[39m] \u001B[38;5;241m=\u001B[39m load_weight_prefix \u001B[38;5;241m+\u001B[39m \u001B[38;5;124m\"\u001B[39m\u001B[38;5;124m/\u001B[39m\u001B[38;5;124m\"\u001B[39m \u001B[38;5;241m+\u001B[39m model_kwargs\u001B[38;5;241m.\u001B[39mget(\u001B[38;5;124m\"\u001B[39m\u001B[38;5;124mname\u001B[39m\u001B[38;5;124m\"\u001B[39m)\n\u001B[0;32m   2901\u001B[0m \u001B[38;5;66;03m# Instantiate model.\u001B[39;00m\n\u001B[1;32m-> 2902\u001B[0m model \u001B[38;5;241m=\u001B[39m \u001B[38;5;28mcls\u001B[39m(config, \u001B[38;5;241m*\u001B[39mmodel_args, \u001B[38;5;241m*\u001B[39m\u001B[38;5;241m*\u001B[39mmodel_kwargs)\n\u001B[0;32m   2904\u001B[0m \u001B[38;5;28;01mif\u001B[39;00m tf_to_pt_weight_rename \u001B[38;5;129;01mis\u001B[39;00m \u001B[38;5;28;01mNone\u001B[39;00m \u001B[38;5;129;01mand\u001B[39;00m \u001B[38;5;28mhasattr\u001B[39m(model, \u001B[38;5;124m\"\u001B[39m\u001B[38;5;124mtf_to_pt_weight_rename\u001B[39m\u001B[38;5;124m\"\u001B[39m):\n\u001B[0;32m   2905\u001B[0m     \u001B[38;5;66;03m# TODO Matt: This is a temporary workaround to allow weight renaming, but requires a method\u001B[39;00m\n\u001B[0;32m   2906\u001B[0m     \u001B[38;5;66;03m#            to be defined for each class that requires a rename. We can probably just have a class-level\u001B[39;00m\n\u001B[0;32m   2907\u001B[0m     \u001B[38;5;66;03m#            dict and a single top-level method or something and cut down a lot of boilerplate code\u001B[39;00m\n\u001B[0;32m   2908\u001B[0m     tf_to_pt_weight_rename \u001B[38;5;241m=\u001B[39m model\u001B[38;5;241m.\u001B[39mtf_to_pt_weight_rename\n",
      "File \u001B[1;32mD:\\StudioPenguin\\politifact\\virtualenv\\lib\\site-packages\\transformers\\models\\bert\\modeling_tf_bert.py:1187\u001B[0m, in \u001B[0;36mTFBertModel.__init__\u001B[1;34m(self, config, *inputs, **kwargs)\u001B[0m\n\u001B[0;32m   1186\u001B[0m \u001B[38;5;28;01mdef\u001B[39;00m \u001B[38;5;21m__init__\u001B[39m(\u001B[38;5;28mself\u001B[39m, config: BertConfig, \u001B[38;5;241m*\u001B[39minputs, \u001B[38;5;241m*\u001B[39m\u001B[38;5;241m*\u001B[39mkwargs):\n\u001B[1;32m-> 1187\u001B[0m     \u001B[38;5;28msuper\u001B[39m()\u001B[38;5;241m.\u001B[39m\u001B[38;5;21m__init__\u001B[39m(config, \u001B[38;5;241m*\u001B[39minputs, \u001B[38;5;241m*\u001B[39m\u001B[38;5;241m*\u001B[39mkwargs)\n\u001B[0;32m   1189\u001B[0m     \u001B[38;5;28mself\u001B[39m\u001B[38;5;241m.\u001B[39mbert \u001B[38;5;241m=\u001B[39m TFBertMainLayer(config, name\u001B[38;5;241m=\u001B[39m\u001B[38;5;124m\"\u001B[39m\u001B[38;5;124mbert\u001B[39m\u001B[38;5;124m\"\u001B[39m)\n",
      "File \u001B[1;32mD:\\StudioPenguin\\politifact\\virtualenv\\lib\\site-packages\\transformers\\modeling_tf_utils.py:1150\u001B[0m, in \u001B[0;36mTFPreTrainedModel.__init__\u001B[1;34m(self, config, *inputs, **kwargs)\u001B[0m\n\u001B[0;32m   1148\u001B[0m \u001B[38;5;28mself\u001B[39m\u001B[38;5;241m.\u001B[39mname_or_path \u001B[38;5;241m=\u001B[39m config\u001B[38;5;241m.\u001B[39mname_or_path\n\u001B[0;32m   1149\u001B[0m \u001B[38;5;28mself\u001B[39m\u001B[38;5;241m.\u001B[39mgeneration_config \u001B[38;5;241m=\u001B[39m GenerationConfig\u001B[38;5;241m.\u001B[39mfrom_model_config(config) \u001B[38;5;28;01mif\u001B[39;00m \u001B[38;5;28mself\u001B[39m\u001B[38;5;241m.\u001B[39mcan_generate() \u001B[38;5;28;01melse\u001B[39;00m \u001B[38;5;28;01mNone\u001B[39;00m\n\u001B[1;32m-> 1150\u001B[0m \u001B[38;5;28;43mself\u001B[39;49m\u001B[38;5;241;43m.\u001B[39;49m\u001B[43m_set_save_spec\u001B[49m\u001B[43m(\u001B[49m\u001B[38;5;28;43mself\u001B[39;49m\u001B[38;5;241;43m.\u001B[39;49m\u001B[43minput_signature\u001B[49m\u001B[43m)\u001B[49m\n",
      "File \u001B[1;32mD:\\StudioPenguin\\politifact\\virtualenv\\lib\\site-packages\\tensorflow\\python\\trackable\\base.py:204\u001B[0m, in \u001B[0;36mno_automatic_dependency_tracking.<locals>._method_wrapper\u001B[1;34m(self, *args, **kwargs)\u001B[0m\n\u001B[0;32m    202\u001B[0m \u001B[38;5;28mself\u001B[39m\u001B[38;5;241m.\u001B[39m_self_setattr_tracking \u001B[38;5;241m=\u001B[39m \u001B[38;5;28;01mFalse\u001B[39;00m  \u001B[38;5;66;03m# pylint: disable=protected-access\u001B[39;00m\n\u001B[0;32m    203\u001B[0m \u001B[38;5;28;01mtry\u001B[39;00m:\n\u001B[1;32m--> 204\u001B[0m   result \u001B[38;5;241m=\u001B[39m method(\u001B[38;5;28mself\u001B[39m, \u001B[38;5;241m*\u001B[39margs, \u001B[38;5;241m*\u001B[39m\u001B[38;5;241m*\u001B[39mkwargs)\n\u001B[0;32m    205\u001B[0m \u001B[38;5;28;01mfinally\u001B[39;00m:\n\u001B[0;32m    206\u001B[0m   \u001B[38;5;28mself\u001B[39m\u001B[38;5;241m.\u001B[39m_self_setattr_tracking \u001B[38;5;241m=\u001B[39m previous_value  \u001B[38;5;66;03m# pylint: disable=protected-access\u001B[39;00m\n",
      "File \u001B[1;32mD:\\StudioPenguin\\politifact\\virtualenv\\lib\\site-packages\\keras\\src\\backend\\tensorflow\\layer.py:35\u001B[0m, in \u001B[0;36mTFLayer._set_save_spec\u001B[1;34m(self, inputs, args, kwargs)\u001B[0m\n\u001B[0;32m     33\u001B[0m kwargs_spec \u001B[38;5;241m=\u001B[39m {}\n\u001B[0;32m     34\u001B[0m \u001B[38;5;66;03m# Filter out non-tensor arguments from kwargs.\u001B[39;00m\n\u001B[1;32m---> 35\u001B[0m \u001B[38;5;28;01mfor\u001B[39;00m key, kwarg \u001B[38;5;129;01min\u001B[39;00m \u001B[43mkwargs\u001B[49m\u001B[38;5;241;43m.\u001B[39;49m\u001B[43mitems\u001B[49m():\n\u001B[0;32m     36\u001B[0m     flat_kwarg \u001B[38;5;241m=\u001B[39m tree\u001B[38;5;241m.\u001B[39mflatten(kwarg)\n\u001B[0;32m     37\u001B[0m     flat_specs \u001B[38;5;241m=\u001B[39m [tf_utils\u001B[38;5;241m.\u001B[39mget_tensor_spec(x) \u001B[38;5;28;01mfor\u001B[39;00m x \u001B[38;5;129;01min\u001B[39;00m flat_kwarg]\n",
      "\u001B[1;31mAttributeError\u001B[0m: 'NoneType' object has no attribute 'items'"
     ]
    }
   ],
   "source": [
    "train_df = pd.read_csv('./data/politifact-train-80-20.csv', index_col=0)\n",
    "test_df = pd.read_csv('./data/politifact-test-80-20.csv', index_col=0)\n",
    "\n",
    "self = BigClass(train_df, test_df, \"Politifact\", ['fake', 'real'])\n",
    "self.prepare_dataset()\n",
    "self.prepare_bert_tokens()\n",
    "self.save_bert_tokens()\n",
    "self.save_labels()"
   ],
   "metadata": {
    "collapsed": false
   }
  },
  {
   "cell_type": "code",
   "execution_count": null,
   "outputs": [],
   "source": [
    "input_word_ids = tf.keras.Input(shape=(self.MAX_SEQ_LENGTH,), dtype=tf.int32, name='input_word_ids')\n",
    "input_mask = tf.keras.Input(shape=(self.MAX_SEQ_LENGTH,), dtype=tf.int32, name='input_mask')\n",
    "input_type_ids = tf.keras.Input(shape=(self.MAX_SEQ_LENGTH,), dtype=tf.int32, name='input_type_ids')\n",
    "\n",
    "x = self.bert_model(input_word_ids, attention_mask=input_mask, token_type_ids=input_type_ids)\n",
    "x = x[0]"
   ],
   "metadata": {
    "collapsed": false
   }
  }
 ],
 "metadata": {
  "kernelspec": {
   "display_name": "Python 3",
   "language": "python",
   "name": "python3"
  },
  "language_info": {
   "codemirror_mode": {
    "name": "ipython",
    "version": 2
   },
   "file_extension": ".py",
   "mimetype": "text/x-python",
   "name": "python",
   "nbconvert_exporter": "python",
   "pygments_lexer": "ipython2",
   "version": "2.7.6"
  }
 },
 "nbformat": 4,
 "nbformat_minor": 0
}
